{
  "nbformat": 4,
  "nbformat_minor": 0,
  "metadata": {
    "colab": {
      "provenance": [],
      "authorship_tag": "ABX9TyO4CCh0EWor2AdBAMMaVnpt",
      "include_colab_link": true
    },
    "kernelspec": {
      "name": "python3",
      "display_name": "Python 3"
    },
    "language_info": {
      "name": "python"
    }
  },
  "cells": [
    {
      "cell_type": "markdown",
      "metadata": {
        "id": "view-in-github",
        "colab_type": "text"
      },
      "source": [
        "<a href=\"https://colab.research.google.com/github/Sebastian-Cely/M1-Procesamiento-datos-secuenciales/blob/main/ModelAudio2.ipynb\" target=\"_parent\"><img src=\"https://colab.research.google.com/assets/colab-badge.svg\" alt=\"Open In Colab\"/></a>"
      ]
    },
    {
      "cell_type": "code",
      "source": [
        "!git clone https://github.com/Sebastian-Cely/M1-Procesamiento-datos-secuenciales.git"
      ],
      "metadata": {
        "colab": {
          "base_uri": "https://localhost:8080/"
        },
        "id": "rfjk1Zqe86mO",
        "outputId": "ef00d716-35b7-4909-cb78-6705a15c7b5d"
      },
      "execution_count": 4,
      "outputs": [
        {
          "output_type": "stream",
          "name": "stdout",
          "text": [
            "Cloning into 'M1-Procesamiento-datos-secuenciales'...\n",
            "remote: Enumerating objects: 139, done.\u001b[K\n",
            "remote: Counting objects: 100% (17/17), done.\u001b[K\n",
            "remote: Compressing objects: 100% (17/17), done.\u001b[K\n",
            "remote: Total 139 (delta 9), reused 0 (delta 0), pack-reused 122\u001b[K\n",
            "Receiving objects: 100% (139/139), 2.72 MiB | 6.85 MiB/s, done.\n",
            "Resolving deltas: 100% (19/19), done.\n"
          ]
        }
      ]
    },
    {
      "cell_type": "code",
      "execution_count": 6,
      "metadata": {
        "id": "bCEoaYNQ79Ds"
      },
      "outputs": [],
      "source": [
        "#Importar librerías\n",
        "import librosa\n",
        "import numpy as np\n",
        "from sklearn.model_selection import train_test_split\n",
        "from sklearn.metrics import accuracy_score, classification_report\n",
        "import tensorflow as tf\n",
        "import matplotlib.pyplot as plt\n",
        "import numpy as np\n"
      ]
    },
    {
      "cell_type": "markdown",
      "source": [
        "**Cargar Datos**"
      ],
      "metadata": {
        "id": "zYbc92Cm-qW6"
      }
    },
    {
      "cell_type": "code",
      "source": [
        "def load_file(file_aud):\n",
        "    # Cargar archivo con extensión .wav\n",
        "    file_ext = tf.io.read_file(file_aud)\n",
        "    # Decodificación wav\n",
        "    wav, sample_rate = tf.audio.decode_wav(file_ext, desired_channels=1)\n",
        "    # Removiendo eje final\n",
        "    wav = tf.squeeze(wav, axis=-1)\n",
        "    # Devolver archivo como vector numpy\n",
        "    return wav\n"
      ],
      "metadata": {
        "id": "CRQmtxH--r2G"
      },
      "execution_count": 8,
      "outputs": []
    }
  ]
}